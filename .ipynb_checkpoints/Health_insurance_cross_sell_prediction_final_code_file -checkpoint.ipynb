{
 "cells": [
  {
   "cell_type": "code",
   "execution_count": null,
   "id": "expressed-hartford",
   "metadata": {},
   "outputs": [],
   "source": [
    "# Import Libraries\n",
    "import pandas as pd\n",
    "import matplotlib.pyplot as plt\n",
    "import seaborn as sns\n",
    "from imblearn.over_sampling import RandomOverSampler\n",
    "sns.set(style='whitegrid')\n",
    "import warnings\n",
    "warnings.filterwarnings('ignore')"
   ]
  },
  {
   "cell_type": "code",
   "execution_count": 2,
   "id": "seeing-chapel",
   "metadata": {},
   "outputs": [],
   "source": [
    "# Load Dataset\n",
    "train=pd.read_csv(r\"C:\\Users\\ELCOT\\Desktop\\insurance\\train_Df64byy.csv\")\n",
    "test=pd.read_csv(r\"C:\\Users\\ELCOT\\Desktop\\insurance\\test_YCcRUnU.csv\")"
   ]
  },
  {
   "cell_type": "code",
   "execution_count": 3,
   "id": "registered-mother",
   "metadata": {},
   "outputs": [
    {
     "data": {
      "text/html": [
       "<div>\n",
       "<style scoped>\n",
       "    .dataframe tbody tr th:only-of-type {\n",
       "        vertical-align: middle;\n",
       "    }\n",
       "\n",
       "    .dataframe tbody tr th {\n",
       "        vertical-align: top;\n",
       "    }\n",
       "\n",
       "    .dataframe thead th {\n",
       "        text-align: right;\n",
       "    }\n",
       "</style>\n",
       "<table border=\"1\" class=\"dataframe\">\n",
       "  <thead>\n",
       "    <tr style=\"text-align: right;\">\n",
       "      <th></th>\n",
       "      <th>ID</th>\n",
       "      <th>City_Code</th>\n",
       "      <th>Region_Code</th>\n",
       "      <th>Accomodation_Type</th>\n",
       "      <th>Reco_Insurance_Type</th>\n",
       "      <th>Upper_Age</th>\n",
       "      <th>Lower_Age</th>\n",
       "      <th>Is_Spouse</th>\n",
       "      <th>Health Indicator</th>\n",
       "      <th>Holding_Policy_Duration</th>\n",
       "      <th>Holding_Policy_Type</th>\n",
       "      <th>Reco_Policy_Cat</th>\n",
       "      <th>Reco_Policy_Premium</th>\n",
       "      <th>Response</th>\n",
       "    </tr>\n",
       "  </thead>\n",
       "  <tbody>\n",
       "    <tr>\n",
       "      <th>0</th>\n",
       "      <td>1</td>\n",
       "      <td>C3</td>\n",
       "      <td>3213</td>\n",
       "      <td>Rented</td>\n",
       "      <td>Individual</td>\n",
       "      <td>36</td>\n",
       "      <td>36</td>\n",
       "      <td>No</td>\n",
       "      <td>X1</td>\n",
       "      <td>14+</td>\n",
       "      <td>3.0</td>\n",
       "      <td>22</td>\n",
       "      <td>11628.0</td>\n",
       "      <td>0</td>\n",
       "    </tr>\n",
       "    <tr>\n",
       "      <th>1</th>\n",
       "      <td>2</td>\n",
       "      <td>C5</td>\n",
       "      <td>1117</td>\n",
       "      <td>Owned</td>\n",
       "      <td>Joint</td>\n",
       "      <td>75</td>\n",
       "      <td>22</td>\n",
       "      <td>No</td>\n",
       "      <td>X2</td>\n",
       "      <td>NaN</td>\n",
       "      <td>NaN</td>\n",
       "      <td>22</td>\n",
       "      <td>30510.0</td>\n",
       "      <td>0</td>\n",
       "    </tr>\n",
       "    <tr>\n",
       "      <th>2</th>\n",
       "      <td>3</td>\n",
       "      <td>C5</td>\n",
       "      <td>3732</td>\n",
       "      <td>Owned</td>\n",
       "      <td>Individual</td>\n",
       "      <td>32</td>\n",
       "      <td>32</td>\n",
       "      <td>No</td>\n",
       "      <td>NaN</td>\n",
       "      <td>1.0</td>\n",
       "      <td>1.0</td>\n",
       "      <td>19</td>\n",
       "      <td>7450.0</td>\n",
       "      <td>1</td>\n",
       "    </tr>\n",
       "    <tr>\n",
       "      <th>3</th>\n",
       "      <td>4</td>\n",
       "      <td>C24</td>\n",
       "      <td>4378</td>\n",
       "      <td>Owned</td>\n",
       "      <td>Joint</td>\n",
       "      <td>52</td>\n",
       "      <td>48</td>\n",
       "      <td>No</td>\n",
       "      <td>X1</td>\n",
       "      <td>14+</td>\n",
       "      <td>3.0</td>\n",
       "      <td>19</td>\n",
       "      <td>17780.0</td>\n",
       "      <td>0</td>\n",
       "    </tr>\n",
       "    <tr>\n",
       "      <th>4</th>\n",
       "      <td>5</td>\n",
       "      <td>C8</td>\n",
       "      <td>2190</td>\n",
       "      <td>Rented</td>\n",
       "      <td>Individual</td>\n",
       "      <td>44</td>\n",
       "      <td>44</td>\n",
       "      <td>No</td>\n",
       "      <td>X2</td>\n",
       "      <td>3.0</td>\n",
       "      <td>1.0</td>\n",
       "      <td>16</td>\n",
       "      <td>10404.0</td>\n",
       "      <td>0</td>\n",
       "    </tr>\n",
       "  </tbody>\n",
       "</table>\n",
       "</div>"
      ],
      "text/plain": [
       "   ID City_Code  Region_Code Accomodation_Type Reco_Insurance_Type  Upper_Age  \\\n",
       "0   1        C3         3213            Rented          Individual         36   \n",
       "1   2        C5         1117             Owned               Joint         75   \n",
       "2   3        C5         3732             Owned          Individual         32   \n",
       "3   4       C24         4378             Owned               Joint         52   \n",
       "4   5        C8         2190            Rented          Individual         44   \n",
       "\n",
       "   Lower_Age Is_Spouse Health Indicator Holding_Policy_Duration  \\\n",
       "0         36        No               X1                     14+   \n",
       "1         22        No               X2                     NaN   \n",
       "2         32        No              NaN                     1.0   \n",
       "3         48        No               X1                     14+   \n",
       "4         44        No               X2                     3.0   \n",
       "\n",
       "   Holding_Policy_Type  Reco_Policy_Cat  Reco_Policy_Premium  Response  \n",
       "0                  3.0               22              11628.0         0  \n",
       "1                  NaN               22              30510.0         0  \n",
       "2                  1.0               19               7450.0         1  \n",
       "3                  3.0               19              17780.0         0  \n",
       "4                  1.0               16              10404.0         0  "
      ]
     },
     "execution_count": 3,
     "metadata": {},
     "output_type": "execute_result"
    }
   ],
   "source": [
    "#check and read the dataset \n",
    "train.head()"
   ]
  },
  {
   "cell_type": "code",
   "execution_count": 4,
   "id": "intermediate-annex",
   "metadata": {},
   "outputs": [
    {
     "data": {
      "text/html": [
       "<div>\n",
       "<style scoped>\n",
       "    .dataframe tbody tr th:only-of-type {\n",
       "        vertical-align: middle;\n",
       "    }\n",
       "\n",
       "    .dataframe tbody tr th {\n",
       "        vertical-align: top;\n",
       "    }\n",
       "\n",
       "    .dataframe thead th {\n",
       "        text-align: right;\n",
       "    }\n",
       "</style>\n",
       "<table border=\"1\" class=\"dataframe\">\n",
       "  <thead>\n",
       "    <tr style=\"text-align: right;\">\n",
       "      <th></th>\n",
       "      <th>ID</th>\n",
       "      <th>Region_Code</th>\n",
       "      <th>Upper_Age</th>\n",
       "      <th>Lower_Age</th>\n",
       "      <th>Holding_Policy_Type</th>\n",
       "      <th>Reco_Policy_Cat</th>\n",
       "      <th>Reco_Policy_Premium</th>\n",
       "      <th>Response</th>\n",
       "    </tr>\n",
       "  </thead>\n",
       "  <tbody>\n",
       "    <tr>\n",
       "      <th>count</th>\n",
       "      <td>50882.000000</td>\n",
       "      <td>50882.000000</td>\n",
       "      <td>50882.000000</td>\n",
       "      <td>50882.000000</td>\n",
       "      <td>30631.000000</td>\n",
       "      <td>50882.000000</td>\n",
       "      <td>50882.000000</td>\n",
       "      <td>50882.000000</td>\n",
       "    </tr>\n",
       "    <tr>\n",
       "      <th>mean</th>\n",
       "      <td>25441.500000</td>\n",
       "      <td>1732.788707</td>\n",
       "      <td>44.856275</td>\n",
       "      <td>42.738866</td>\n",
       "      <td>2.439228</td>\n",
       "      <td>15.115188</td>\n",
       "      <td>14183.950069</td>\n",
       "      <td>0.239947</td>\n",
       "    </tr>\n",
       "    <tr>\n",
       "      <th>std</th>\n",
       "      <td>14688.512535</td>\n",
       "      <td>1424.081652</td>\n",
       "      <td>17.310271</td>\n",
       "      <td>17.319375</td>\n",
       "      <td>1.025923</td>\n",
       "      <td>6.340663</td>\n",
       "      <td>6590.074873</td>\n",
       "      <td>0.427055</td>\n",
       "    </tr>\n",
       "    <tr>\n",
       "      <th>min</th>\n",
       "      <td>1.000000</td>\n",
       "      <td>1.000000</td>\n",
       "      <td>18.000000</td>\n",
       "      <td>16.000000</td>\n",
       "      <td>1.000000</td>\n",
       "      <td>1.000000</td>\n",
       "      <td>2280.000000</td>\n",
       "      <td>0.000000</td>\n",
       "    </tr>\n",
       "    <tr>\n",
       "      <th>25%</th>\n",
       "      <td>12721.250000</td>\n",
       "      <td>523.000000</td>\n",
       "      <td>28.000000</td>\n",
       "      <td>27.000000</td>\n",
       "      <td>1.000000</td>\n",
       "      <td>12.000000</td>\n",
       "      <td>9248.000000</td>\n",
       "      <td>0.000000</td>\n",
       "    </tr>\n",
       "    <tr>\n",
       "      <th>50%</th>\n",
       "      <td>25441.500000</td>\n",
       "      <td>1391.000000</td>\n",
       "      <td>44.000000</td>\n",
       "      <td>40.000000</td>\n",
       "      <td>3.000000</td>\n",
       "      <td>17.000000</td>\n",
       "      <td>13178.000000</td>\n",
       "      <td>0.000000</td>\n",
       "    </tr>\n",
       "    <tr>\n",
       "      <th>75%</th>\n",
       "      <td>38161.750000</td>\n",
       "      <td>2667.000000</td>\n",
       "      <td>59.000000</td>\n",
       "      <td>57.000000</td>\n",
       "      <td>3.000000</td>\n",
       "      <td>20.000000</td>\n",
       "      <td>18096.000000</td>\n",
       "      <td>0.000000</td>\n",
       "    </tr>\n",
       "    <tr>\n",
       "      <th>max</th>\n",
       "      <td>50882.000000</td>\n",
       "      <td>6194.000000</td>\n",
       "      <td>75.000000</td>\n",
       "      <td>75.000000</td>\n",
       "      <td>4.000000</td>\n",
       "      <td>22.000000</td>\n",
       "      <td>43350.400000</td>\n",
       "      <td>1.000000</td>\n",
       "    </tr>\n",
       "  </tbody>\n",
       "</table>\n",
       "</div>"
      ],
      "text/plain": [
       "                 ID   Region_Code     Upper_Age     Lower_Age  \\\n",
       "count  50882.000000  50882.000000  50882.000000  50882.000000   \n",
       "mean   25441.500000   1732.788707     44.856275     42.738866   \n",
       "std    14688.512535   1424.081652     17.310271     17.319375   \n",
       "min        1.000000      1.000000     18.000000     16.000000   \n",
       "25%    12721.250000    523.000000     28.000000     27.000000   \n",
       "50%    25441.500000   1391.000000     44.000000     40.000000   \n",
       "75%    38161.750000   2667.000000     59.000000     57.000000   \n",
       "max    50882.000000   6194.000000     75.000000     75.000000   \n",
       "\n",
       "       Holding_Policy_Type  Reco_Policy_Cat  Reco_Policy_Premium      Response  \n",
       "count         30631.000000     50882.000000         50882.000000  50882.000000  \n",
       "mean              2.439228        15.115188         14183.950069      0.239947  \n",
       "std               1.025923         6.340663          6590.074873      0.427055  \n",
       "min               1.000000         1.000000          2280.000000      0.000000  \n",
       "25%               1.000000        12.000000          9248.000000      0.000000  \n",
       "50%               3.000000        17.000000         13178.000000      0.000000  \n",
       "75%               3.000000        20.000000         18096.000000      0.000000  \n",
       "max               4.000000        22.000000         43350.400000      1.000000  "
      ]
     },
     "execution_count": 4,
     "metadata": {},
     "output_type": "execute_result"
    }
   ],
   "source": [
    "train.describe()"
   ]
  },
  {
   "cell_type": "code",
   "execution_count": 5,
   "id": "statutory-production",
   "metadata": {},
   "outputs": [
    {
     "name": "stdout",
     "output_type": "stream",
     "text": [
      "<class 'pandas.core.frame.DataFrame'>\n",
      "RangeIndex: 50882 entries, 0 to 50881\n",
      "Data columns (total 14 columns):\n",
      " #   Column                   Non-Null Count  Dtype  \n",
      "---  ------                   --------------  -----  \n",
      " 0   ID                       50882 non-null  int64  \n",
      " 1   City_Code                50882 non-null  object \n",
      " 2   Region_Code              50882 non-null  int64  \n",
      " 3   Accomodation_Type        50882 non-null  object \n",
      " 4   Reco_Insurance_Type      50882 non-null  object \n",
      " 5   Upper_Age                50882 non-null  int64  \n",
      " 6   Lower_Age                50882 non-null  int64  \n",
      " 7   Is_Spouse                50882 non-null  object \n",
      " 8   Health Indicator         39191 non-null  object \n",
      " 9   Holding_Policy_Duration  30631 non-null  object \n",
      " 10  Holding_Policy_Type      30631 non-null  float64\n",
      " 11  Reco_Policy_Cat          50882 non-null  int64  \n",
      " 12  Reco_Policy_Premium      50882 non-null  float64\n",
      " 13  Response                 50882 non-null  int64  \n",
      "dtypes: float64(2), int64(6), object(6)\n",
      "memory usage: 5.4+ MB\n"
     ]
    }
   ],
   "source": [
    "train.info()"
   ]
  },
  {
   "cell_type": "code",
   "execution_count": 6,
   "id": "built-handbook",
   "metadata": {},
   "outputs": [
    {
     "data": {
      "text/plain": [
       "ID                             0\n",
       "City_Code                      0\n",
       "Region_Code                    0\n",
       "Accomodation_Type              0\n",
       "Reco_Insurance_Type            0\n",
       "Upper_Age                      0\n",
       "Lower_Age                      0\n",
       "Is_Spouse                      0\n",
       "Health Indicator           11691\n",
       "Holding_Policy_Duration    20251\n",
       "Holding_Policy_Type        20251\n",
       "Reco_Policy_Cat                0\n",
       "Reco_Policy_Premium            0\n",
       "Response                       0\n",
       "dtype: int64"
      ]
     },
     "execution_count": 6,
     "metadata": {},
     "output_type": "execute_result"
    }
   ],
   "source": [
    "# Check for missing values in train dataset\n",
    "train.isnull().sum()"
   ]
  },
  {
   "cell_type": "code",
   "execution_count": 7,
   "id": "technical-configuration",
   "metadata": {},
   "outputs": [],
   "source": [
    "# Regularise the data in same type\n",
    "train['Holding_Policy_Duration']=train['Holding_Policy_Duration'].replace(['14+'],'15')  "
   ]
  },
  {
   "cell_type": "code",
   "execution_count": 8,
   "id": "persistent-picnic",
   "metadata": {},
   "outputs": [],
   "source": [
    "# fill the missing values of numeric data type by median train dataset\n",
    "train['Holding_Policy_Duration']=train['Holding_Policy_Duration'].fillna(train['Holding_Policy_Duration'].median()) "
   ]
  },
  {
   "cell_type": "code",
   "execution_count": 9,
   "id": "impressed-genetics",
   "metadata": {},
   "outputs": [],
   "source": [
    "# # fill the missing values of categoricl data type by mode in train dataset\n",
    "train['Health Indicator']=train['Health Indicator'].fillna(train['Health Indicator'].mode()[0])  \n",
    "train['Holding_Policy_Type']=train['Holding_Policy_Type'].fillna(train['Holding_Policy_Type'].mode()[0])"
   ]
  },
  {
   "cell_type": "code",
   "execution_count": 10,
   "id": "intimate-traveler",
   "metadata": {},
   "outputs": [
    {
     "data": {
      "text/plain": [
       "ID                         0\n",
       "City_Code                  0\n",
       "Region_Code                0\n",
       "Accomodation_Type          0\n",
       "Reco_Insurance_Type        0\n",
       "Upper_Age                  0\n",
       "Lower_Age                  0\n",
       "Is_Spouse                  0\n",
       "Health Indicator           0\n",
       "Holding_Policy_Duration    0\n",
       "Holding_Policy_Type        0\n",
       "Reco_Policy_Cat            0\n",
       "Reco_Policy_Premium        0\n",
       "Response                   0\n",
       "dtype: int64"
      ]
     },
     "execution_count": 10,
     "metadata": {},
     "output_type": "execute_result"
    }
   ],
   "source": [
    "train.isnull().sum()"
   ]
  },
  {
   "cell_type": "code",
   "execution_count": 11,
   "id": "previous-hanging",
   "metadata": {},
   "outputs": [
    {
     "data": {
      "text/plain": [
       "ID                            0\n",
       "City_Code                     0\n",
       "Region_Code                   0\n",
       "Accomodation_Type             0\n",
       "Reco_Insurance_Type           0\n",
       "Upper_Age                     0\n",
       "Lower_Age                     0\n",
       "Is_Spouse                     0\n",
       "Health Indicator           5027\n",
       "Holding_Policy_Duration    8603\n",
       "Holding_Policy_Type        8603\n",
       "Reco_Policy_Cat               0\n",
       "Reco_Policy_Premium           0\n",
       "dtype: int64"
      ]
     },
     "execution_count": 11,
     "metadata": {},
     "output_type": "execute_result"
    }
   ],
   "source": [
    "# Check for missing values in test dataset\n",
    "test.isnull().sum()"
   ]
  },
  {
   "cell_type": "code",
   "execution_count": 12,
   "id": "religious-young",
   "metadata": {},
   "outputs": [],
   "source": [
    "# fill the missing values of numeric data type by median test dataset\n",
    "test['Holding_Policy_Duration']=test['Holding_Policy_Duration'].replace(['14+'],'15')  \n",
    "test['Holding_Policy_Duration']=test['Holding_Policy_Duration'].fillna(train['Holding_Policy_Duration'].median()) "
   ]
  },
  {
   "cell_type": "code",
   "execution_count": 13,
   "id": "subtle-bottom",
   "metadata": {},
   "outputs": [],
   "source": [
    "# # fill the missing values of categoricl data type by mode in test dataset\n",
    "test['Health Indicator']=test['Health Indicator'].fillna(train['Health Indicator'].mode()[0])  \n",
    "test['Holding_Policy_Type']=test['Holding_Policy_Type'].fillna(train['Holding_Policy_Type'].mode()[0])"
   ]
  },
  {
   "cell_type": "code",
   "execution_count": 14,
   "id": "continued-holly",
   "metadata": {},
   "outputs": [
    {
     "data": {
      "text/plain": [
       "ID                         0\n",
       "City_Code                  0\n",
       "Region_Code                0\n",
       "Accomodation_Type          0\n",
       "Reco_Insurance_Type        0\n",
       "Upper_Age                  0\n",
       "Lower_Age                  0\n",
       "Is_Spouse                  0\n",
       "Health Indicator           0\n",
       "Holding_Policy_Duration    0\n",
       "Holding_Policy_Type        0\n",
       "Reco_Policy_Cat            0\n",
       "Reco_Policy_Premium        0\n",
       "dtype: int64"
      ]
     },
     "execution_count": 14,
     "metadata": {},
     "output_type": "execute_result"
    }
   ],
   "source": [
    "test.isnull().sum()"
   ]
  },
  {
   "cell_type": "code",
   "execution_count": 15,
   "id": "sixth-kruger",
   "metadata": {},
   "outputs": [],
   "source": [
    "# take log on numerical value for normalisation\n",
    "train['Reco_Policy_Premium']=np.log(train['Reco_Policy_Premium'])\n",
    "train['Upper_Age']=np.log(train['Upper_Age'])\n",
    "train['Lower_Age']=np.log(train['Lower_Age'])"
   ]
  },
  {
   "cell_type": "code",
   "execution_count": 16,
   "id": "internal-reverse",
   "metadata": {},
   "outputs": [
    {
     "data": {
      "text/plain": [
       "<AxesSubplot:xlabel='City_Code', ylabel='count'>"
      ]
     },
     "execution_count": 16,
     "metadata": {},
     "output_type": "execute_result"
    },
    {
     "data": {
      "image/png": "[encoded data removed]",
      "text/plain": [
       "<Figure size 432x288 with 1 Axes>"
      ]
     },
     "metadata": {},
     "output_type": "display_data"
    }
   ],
   "source": [
    "# Exploratory Data Analysis\n",
    "sns.countplot(train['City_Code'])"
   ]
  },
  {
   "cell_type": "code",
   "execution_count": 17,
   "id": "cosmetic-america",
   "metadata": {},
   "outputs": [
    {
     "data": {
      "text/plain": [
       "<AxesSubplot:xlabel='Accomodation_Type', ylabel='count'>"
      ]
     },
     "execution_count": 17,
     "metadata": {},
     "output_type": "execute_result"
    },
    {
     "data": {
      "image/png": "[encoded data removed]",
      "text/plain": [
       "<Figure size 432x288 with 1 Axes>"
      ]
     },
     "metadata": {},
     "output_type": "display_data"
    }
   ],
   "source": [
    "sns.countplot(train['Accomodation_Type'])"
   ]
  },
  {
   "cell_type": "code",
   "execution_count": 18,
   "id": "underlying-seminar",
   "metadata": {},
   "outputs": [
    {
     "data": {
      "text/plain": [
       "<AxesSubplot:xlabel='Reco_Insurance_Type', ylabel='count'>"
      ]
     },
     "execution_count": 18,
     "metadata": {},
     "output_type": "execute_result"
    },
    {
     "data": {
      "image/png": "[encoded data removed]",
      "text/plain": [
       "<Figure size 432x288 with 1 Axes>"
      ]
     },
     "metadata": {},
     "output_type": "display_data"
    }
   ],
   "source": [
    "sns.countplot(train['Reco_Insurance_Type'])"
   ]
  },
  {
   "cell_type": "code",
   "execution_count": 19,
   "id": "disabled-point",
   "metadata": {},
   "outputs": [
    {
     "data": {
      "text/plain": [
       "<AxesSubplot:xlabel='Upper_Age', ylabel='Density'>"
      ]
     },
     "execution_count": 19,
     "metadata": {},
     "output_type": "execute_result"
    },
    {
     "data": {
      "image/png": "[encoded data removed]",
      "text/plain": [
       "<Figure size 432x288 with 1 Axes>"
      ]
     },
     "metadata": {},
     "output_type": "display_data"
    }
   ],
   "source": [
    "sns.distplot(train['Upper_Age'])"
   ]
  },
  {
   "cell_type": "code",
   "execution_count": 20,
   "id": "tamil-advantage",
   "metadata": {},
   "outputs": [
    {
     "data": {
      "text/plain": [
       "<AxesSubplot:xlabel='Lower_Age', ylabel='Density'>"
      ]
     },
     "execution_count": 20,
     "metadata": {},
     "output_type": "execute_result"
    },
    {
     "data": {
      "image/png": "[encoded data removed]",
      "text/plain": [
       "<Figure size 432x288 with 1 Axes>"
      ]
     },
     "metadata": {},
     "output_type": "display_data"
    }
   ],
   "source": [
    "sns.distplot(train['Lower_Age'])"
   ]
  },
  {
   "cell_type": "code",
   "execution_count": 21,
   "id": "fitting-baghdad",
   "metadata": {},
   "outputs": [
    {
     "data": {
      "text/plain": [
       "<AxesSubplot:xlabel='Is_Spouse', ylabel='count'>"
      ]
     },
     "execution_count": 21,
     "metadata": {},
     "output_type": "execute_result"
    },
    {
     "data": {
      "image/png": "[encoded data removed]",
      "text/plain": [
       "<Figure size 432x288 with 1 Axes>"
      ]
     },
     "metadata": {},
     "output_type": "display_data"
    }
   ],
   "source": [
    "sns.countplot(train['Is_Spouse'])"
   ]
  },
  {
   "cell_type": "code",
   "execution_count": 22,
   "id": "separate-energy",
   "metadata": {},
   "outputs": [
    {
     "data": {
      "text/plain": [
       "<AxesSubplot:xlabel='Health Indicator', ylabel='count'>"
      ]
     },
     "execution_count": 22,
     "metadata": {},
     "output_type": "execute_result"
    },
    {
     "data": {
      "image/png": "[encoded data removed]",
      "text/plain": [
       "<Figure size 432x288 with 1 Axes>"
      ]
     },
     "metadata": {},
     "output_type": "display_data"
    }
   ],
   "source": [
    "sns.countplot(train['Health Indicator'])"
   ]
  },
  {
   "cell_type": "code",
   "execution_count": 23,
   "id": "frequent-sympathy",
   "metadata": {},
   "outputs": [
    {
     "data": {
      "text/plain": [
       "<AxesSubplot:xlabel='Holding_Policy_Duration', ylabel='Density'>"
      ]
     },
     "execution_count": 23,
     "metadata": {},
     "output_type": "execute_result"
    },
    {
     "data": {
      "image/png": "[encoded data removed]",
      "text/plain": [
       "<Figure size 432x288 with 1 Axes>"
      ]
     },
     "metadata": {},
     "output_type": "display_data"
    }
   ],
   "source": [
    "sns.distplot(train['Holding_Policy_Duration'])"
   ]
  },
  {
   "cell_type": "code",
   "execution_count": 24,
   "id": "combined-fusion",
   "metadata": {},
   "outputs": [
    {
     "data": {
      "text/plain": [
       "<AxesSubplot:xlabel='Holding_Policy_Type', ylabel='count'>"
      ]
     },
     "execution_count": 24,
     "metadata": {},
     "output_type": "execute_result"
    },
    {
     "data": {
      "image/png": "[encoded data removed]",
      "text/plain": [
       "<Figure size 432x288 with 1 Axes>"
      ]
     },
     "metadata": {},
     "output_type": "display_data"
    }
   ],
   "source": [
    "sns.countplot(train['Holding_Policy_Type'])"
   ]
  },
  {
   "cell_type": "code",
   "execution_count": 25,
   "id": "twenty-equality",
   "metadata": {},
   "outputs": [
    {
     "data": {
      "text/plain": [
       "<AxesSubplot:xlabel='Reco_Policy_Cat', ylabel='count'>"
      ]
     },
     "execution_count": 25,
     "metadata": {},
     "output_type": "execute_result"
    },
    {
     "data": {
      "image/png": "[encoded data removed]",
      "text/plain": [
       "<Figure size 432x288 with 1 Axes>"
      ]
     },
     "metadata": {},
     "output_type": "display_data"
    }
   ],
   "source": [
    "sns.countplot(train['Reco_Policy_Cat'])"
   ]
  },
  {
   "cell_type": "code",
   "execution_count": 26,
   "id": "eligible-journalist",
   "metadata": {},
   "outputs": [
    {
     "data": {
      "text/plain": [
       "<AxesSubplot:xlabel='Reco_Policy_Premium', ylabel='Density'>"
      ]
     },
     "execution_count": 26,
     "metadata": {},
     "output_type": "execute_result"
    },
    {
     "data": {
      "image/png": "[encoded data removed]",
      "text/plain": [
       "<Figure size 432x288 with 1 Axes>"
      ]
     },
     "metadata": {},
     "output_type": "display_data"
    }
   ],
   "source": [
    "sns.distplot(train['Reco_Policy_Premium'])"
   ]
  },
  {
   "cell_type": "code",
   "execution_count": 27,
   "id": "revised-hindu",
   "metadata": {},
   "outputs": [
    {
     "data": {
      "text/plain": [
       "<AxesSubplot:xlabel='Response', ylabel='count'>"
      ]
     },
     "execution_count": 27,
     "metadata": {},
     "output_type": "execute_result"
    },
    {
     "data": {
      "image/png": "[encoded data removed]",
      "text/plain": [
       "<Figure size 432x288 with 1 Axes>"
      ]
     },
     "metadata": {},
     "output_type": "display_data"
    }
   ],
   "source": [
    "sns.countplot(train['Response'])"
   ]
  },
  {
   "cell_type": "code",
   "execution_count": 28,
   "id": "military-miller",
   "metadata": {},
   "outputs": [
    {
     "data": {
      "text/plain": [
       "<AxesSubplot:>"
      ]
     },
     "execution_count": 28,
     "metadata": {},
     "output_type": "execute_result"
    },
    {
     "data": {
      "image/png": "[encoded data removed]",
      "text/plain": [
       "<Figure size 1080x720 with 2 Axes>"
      ]
     },
     "metadata": {},
     "output_type": "display_data"
    }
   ],
   "source": [
    "# correalation matrix\n",
    "corr=train.corr()\n",
    "plt.figure(figsize=(15,10))\n",
    "sns.heatmap(corr,annot=True,cmap=\"BuPu\")"
   ]
  },
  {
   "cell_type": "markdown",
   "id": "smooth-lewis",
   "metadata": {},
   "source": [
    "## Data Processing"
   ]
  },
  {
   "cell_type": "code",
   "execution_count": 29,
   "id": "animated-cornwall",
   "metadata": {},
   "outputs": [],
   "source": [
    "ID=test.ID"
   ]
  },
  {
   "cell_type": "code",
   "execution_count": 30,
   "id": "optical-consensus",
   "metadata": {},
   "outputs": [],
   "source": [
    "train=train.drop('ID',axis=1)\n",
    "test=test.drop('ID',axis=1)"
   ]
  },
  {
   "cell_type": "code",
   "execution_count": 31,
   "id": "stretch-sport",
   "metadata": {},
   "outputs": [
    {
     "data": {
      "text/html": [
       "<div>\n",
       "<style scoped>\n",
       "    .dataframe tbody tr th:only-of-type {\n",
       "        vertical-align: middle;\n",
       "    }\n",
       "\n",
       "    .dataframe tbody tr th {\n",
       "        vertical-align: top;\n",
       "    }\n",
       "\n",
       "    .dataframe thead th {\n",
       "        text-align: right;\n",
       "    }\n",
       "</style>\n",
       "<table border=\"1\" class=\"dataframe\">\n",
       "  <thead>\n",
       "    <tr style=\"text-align: right;\">\n",
       "      <th></th>\n",
       "      <th>City_Code</th>\n",
       "      <th>Region_Code</th>\n",
       "      <th>Accomodation_Type</th>\n",
       "      <th>Reco_Insurance_Type</th>\n",
       "      <th>Upper_Age</th>\n",
       "      <th>Lower_Age</th>\n",
       "      <th>Is_Spouse</th>\n",
       "      <th>Health Indicator</th>\n",
       "      <th>Holding_Policy_Duration</th>\n",
       "      <th>Holding_Policy_Type</th>\n",
       "      <th>Reco_Policy_Cat</th>\n",
       "      <th>Reco_Policy_Premium</th>\n",
       "      <th>Response</th>\n",
       "    </tr>\n",
       "  </thead>\n",
       "  <tbody>\n",
       "    <tr>\n",
       "      <th>0</th>\n",
       "      <td>C3</td>\n",
       "      <td>3213</td>\n",
       "      <td>Rented</td>\n",
       "      <td>Individual</td>\n",
       "      <td>3.583519</td>\n",
       "      <td>3.583519</td>\n",
       "      <td>No</td>\n",
       "      <td>X1</td>\n",
       "      <td>15</td>\n",
       "      <td>3.0</td>\n",
       "      <td>22</td>\n",
       "      <td>9.361171</td>\n",
       "      <td>0</td>\n",
       "    </tr>\n",
       "    <tr>\n",
       "      <th>1</th>\n",
       "      <td>C5</td>\n",
       "      <td>1117</td>\n",
       "      <td>Owned</td>\n",
       "      <td>Joint</td>\n",
       "      <td>4.317488</td>\n",
       "      <td>3.091042</td>\n",
       "      <td>No</td>\n",
       "      <td>X2</td>\n",
       "      <td>5.0</td>\n",
       "      <td>3.0</td>\n",
       "      <td>22</td>\n",
       "      <td>10.325810</td>\n",
       "      <td>0</td>\n",
       "    </tr>\n",
       "    <tr>\n",
       "      <th>2</th>\n",
       "      <td>C5</td>\n",
       "      <td>3732</td>\n",
       "      <td>Owned</td>\n",
       "      <td>Individual</td>\n",
       "      <td>3.465736</td>\n",
       "      <td>3.465736</td>\n",
       "      <td>No</td>\n",
       "      <td>X1</td>\n",
       "      <td>1.0</td>\n",
       "      <td>1.0</td>\n",
       "      <td>19</td>\n",
       "      <td>8.915969</td>\n",
       "      <td>1</td>\n",
       "    </tr>\n",
       "    <tr>\n",
       "      <th>3</th>\n",
       "      <td>C24</td>\n",
       "      <td>4378</td>\n",
       "      <td>Owned</td>\n",
       "      <td>Joint</td>\n",
       "      <td>3.951244</td>\n",
       "      <td>3.871201</td>\n",
       "      <td>No</td>\n",
       "      <td>X1</td>\n",
       "      <td>15</td>\n",
       "      <td>3.0</td>\n",
       "      <td>19</td>\n",
       "      <td>9.785830</td>\n",
       "      <td>0</td>\n",
       "    </tr>\n",
       "    <tr>\n",
       "      <th>4</th>\n",
       "      <td>C8</td>\n",
       "      <td>2190</td>\n",
       "      <td>Rented</td>\n",
       "      <td>Individual</td>\n",
       "      <td>3.784190</td>\n",
       "      <td>3.784190</td>\n",
       "      <td>No</td>\n",
       "      <td>X2</td>\n",
       "      <td>3.0</td>\n",
       "      <td>1.0</td>\n",
       "      <td>16</td>\n",
       "      <td>9.249946</td>\n",
       "      <td>0</td>\n",
       "    </tr>\n",
       "    <tr>\n",
       "      <th>5</th>\n",
       "      <td>C9</td>\n",
       "      <td>1785</td>\n",
       "      <td>Rented</td>\n",
       "      <td>Individual</td>\n",
       "      <td>3.951244</td>\n",
       "      <td>3.951244</td>\n",
       "      <td>No</td>\n",
       "      <td>X2</td>\n",
       "      <td>5.0</td>\n",
       "      <td>1.0</td>\n",
       "      <td>22</td>\n",
       "      <td>9.633252</td>\n",
       "      <td>1</td>\n",
       "    </tr>\n",
       "    <tr>\n",
       "      <th>6</th>\n",
       "      <td>C3</td>\n",
       "      <td>679</td>\n",
       "      <td>Owned</td>\n",
       "      <td>Individual</td>\n",
       "      <td>3.332205</td>\n",
       "      <td>3.332205</td>\n",
       "      <td>No</td>\n",
       "      <td>X1</td>\n",
       "      <td>5.0</td>\n",
       "      <td>3.0</td>\n",
       "      <td>17</td>\n",
       "      <td>9.272376</td>\n",
       "      <td>0</td>\n",
       "    </tr>\n",
       "    <tr>\n",
       "      <th>7</th>\n",
       "      <td>C1</td>\n",
       "      <td>3175</td>\n",
       "      <td>Owned</td>\n",
       "      <td>Joint</td>\n",
       "      <td>4.317488</td>\n",
       "      <td>4.290459</td>\n",
       "      <td>Yes</td>\n",
       "      <td>X4</td>\n",
       "      <td>9.0</td>\n",
       "      <td>4.0</td>\n",
       "      <td>17</td>\n",
       "      <td>10.286843</td>\n",
       "      <td>1</td>\n",
       "    </tr>\n",
       "    <tr>\n",
       "      <th>8</th>\n",
       "      <td>C15</td>\n",
       "      <td>3497</td>\n",
       "      <td>Owned</td>\n",
       "      <td>Joint</td>\n",
       "      <td>3.951244</td>\n",
       "      <td>3.761200</td>\n",
       "      <td>No</td>\n",
       "      <td>X1</td>\n",
       "      <td>14.0</td>\n",
       "      <td>3.0</td>\n",
       "      <td>1</td>\n",
       "      <td>10.214026</td>\n",
       "      <td>0</td>\n",
       "    </tr>\n",
       "    <tr>\n",
       "      <th>9</th>\n",
       "      <td>C1</td>\n",
       "      <td>530</td>\n",
       "      <td>Owned</td>\n",
       "      <td>Joint</td>\n",
       "      <td>4.077537</td>\n",
       "      <td>3.258097</td>\n",
       "      <td>Yes</td>\n",
       "      <td>X1</td>\n",
       "      <td>7.0</td>\n",
       "      <td>4.0</td>\n",
       "      <td>18</td>\n",
       "      <td>9.957066</td>\n",
       "      <td>1</td>\n",
       "    </tr>\n",
       "  </tbody>\n",
       "</table>\n",
       "</div>"
      ],
      "text/plain": [
       "  City_Code  Region_Code Accomodation_Type Reco_Insurance_Type  Upper_Age  \\\n",
       "0        C3         3213            Rented          Individual   3.583519   \n",
       "1        C5         1117             Owned               Joint   4.317488   \n",
       "2        C5         3732             Owned          Individual   3.465736   \n",
       "3       C24         4378             Owned               Joint   3.951244   \n",
       "4        C8         2190            Rented          Individual   3.784190   \n",
       "5        C9         1785            Rented          Individual   3.951244   \n",
       "6        C3          679             Owned          Individual   3.332205   \n",
       "7        C1         3175             Owned               Joint   4.317488   \n",
       "8       C15         3497             Owned               Joint   3.951244   \n",
       "9        C1          530             Owned               Joint   4.077537   \n",
       "\n",
       "   Lower_Age Is_Spouse Health Indicator Holding_Policy_Duration  \\\n",
       "0   3.583519        No               X1                      15   \n",
       "1   3.091042        No               X2                     5.0   \n",
       "2   3.465736        No               X1                     1.0   \n",
       "3   3.871201        No               X1                      15   \n",
       "4   3.784190        No               X2                     3.0   \n",
       "5   3.951244        No               X2                     5.0   \n",
       "6   3.332205        No               X1                     5.0   \n",
       "7   4.290459       Yes               X4                     9.0   \n",
       "8   3.761200        No               X1                    14.0   \n",
       "9   3.258097       Yes               X1                     7.0   \n",
       "\n",
       "   Holding_Policy_Type  Reco_Policy_Cat  Reco_Policy_Premium  Response  \n",
       "0                  3.0               22             9.361171         0  \n",
       "1                  3.0               22            10.325810         0  \n",
       "2                  1.0               19             8.915969         1  \n",
       "3                  3.0               19             9.785830         0  \n",
       "4                  1.0               16             9.249946         0  \n",
       "5                  1.0               22             9.633252         1  \n",
       "6                  3.0               17             9.272376         0  \n",
       "7                  4.0               17            10.286843         1  \n",
       "8                  3.0                1            10.214026         0  \n",
       "9                  4.0               18             9.957066         1  "
      ]
     },
     "execution_count": 31,
     "metadata": {},
     "output_type": "execute_result"
    }
   ],
   "source": [
    "train.head(10)"
   ]
  },
  {
   "cell_type": "code",
   "execution_count": 32,
   "id": "sunrise-toddler",
   "metadata": {},
   "outputs": [],
   "source": [
    "num_feat = ['Upper_Age','Lower_Age']"
   ]
  },
  {
   "cell_type": "code",
   "execution_count": 33,
   "id": "outside-spread",
   "metadata": {},
   "outputs": [],
   "source": [
    "## apply label encoder on train dataset to convert catergorical into numeric labels\n",
    "from sklearn.preprocessing import LabelEncoder\n",
    "cols= ['City_Code', 'Region_Code', 'Accomodation_Type','Reco_Insurance_Type','Is_Spouse','Health Indicator','Holding_Policy_Type','Reco_Policy_Cat']\n",
    "le=LabelEncoder()\n",
    "for col in cols:\n",
    "    train[col]=le.fit_transform(train[col])"
   ]
  },
  {
   "cell_type": "code",
   "execution_count": 34,
   "id": "color-spectacular",
   "metadata": {},
   "outputs": [],
   "source": [
    "## Normalisation and standardisation of numerical labels in train dataset\n",
    "from sklearn.preprocessing import LabelEncoder, StandardScaler, MinMaxScaler, RobustScaler\n",
    "ss = StandardScaler()\n",
    "train[num_feat] = ss.fit_transform(train[num_feat])\n",
    "\n",
    "\n",
    "mm = MinMaxScaler()\n",
    "train[['Reco_Policy_Premium']] = mm.fit_transform(train[['Reco_Policy_Premium']])"
   ]
  },
  {
   "cell_type": "code",
   "execution_count": 35,
   "id": "supposed-telescope",
   "metadata": {},
   "outputs": [],
   "source": [
    "## apply label encoder on test dataset to convert catergorical into numeric labels\n",
    "from sklearn.preprocessing import LabelEncoder\n",
    "cols= ['City_Code', 'Region_Code', 'Accomodation_Type','Reco_Insurance_Type','Is_Spouse','Health Indicator','Holding_Policy_Type','Reco_Policy_Cat']\n",
    "le=LabelEncoder()\n",
    "for col in cols:\n",
    "    test[col]=le.fit_transform(test[col])"
   ]
  },
  {
   "cell_type": "code",
   "execution_count": 36,
   "id": "cooked-salem",
   "metadata": {},
   "outputs": [],
   "source": [
    "#Normalisation and standardisation of numerical labels in test dataset\n",
    "from sklearn.preprocessing import LabelEncoder, StandardScaler, MinMaxScaler, RobustScaler\n",
    "ss = StandardScaler()\n",
    "test[num_feat] = ss.fit_transform(test[num_feat])\n",
    "\n",
    "\n",
    "mm = MinMaxScaler()\n",
    "test[['Reco_Policy_Premium']] = mm.fit_transform(test[['Reco_Policy_Premium']])"
   ]
  },
  {
   "cell_type": "markdown",
   "id": "imperial-simpson",
   "metadata": {},
   "source": [
    "## Data Modelling and Evaluation"
   ]
  },
  {
   "cell_type": "code",
   "execution_count": 37,
   "id": "wired-mainland",
   "metadata": {},
   "outputs": [],
   "source": [
    "from sklearn.model_selection import train_test_split\n",
    "\n",
    "train_target=train['Response']\n",
    "train=train.drop(['Response'], axis = 1)\n",
    "x_train,x_test,y_train,y_test = train_test_split(train,train_target, random_state = 0)"
   ]
  },
  {
   "cell_type": "code",
   "execution_count": 38,
   "id": "atmospheric-blocking",
   "metadata": {},
   "outputs": [
    {
     "data": {
      "text/plain": [
       "Index(['City_Code', 'Region_Code', 'Accomodation_Type', 'Reco_Insurance_Type',\n",
       "       'Upper_Age', 'Lower_Age', 'Is_Spouse', 'Health Indicator',\n",
       "       'Holding_Policy_Duration', 'Holding_Policy_Type', 'Reco_Policy_Cat',\n",
       "       'Reco_Policy_Premium'],\n",
       "      dtype='object')"
      ]
     },
     "execution_count": 38,
     "metadata": {},
     "output_type": "execute_result"
    }
   ],
   "source": [
    "x_train.columns"
   ]
  },
  {
   "cell_type": "code",
   "execution_count": 39,
   "id": "outstanding-agenda",
   "metadata": {},
   "outputs": [],
   "source": [
    "from sklearn.model_selection import RandomizedSearchCV\n",
    "from sklearn.model_selection import cross_val_score\n",
    "from sklearn.ensemble import RandomForestClassifier\n",
    "from catboost import CatBoostClassifier\n",
    "from sklearn.metrics import accuracy_score\n",
    "from sklearn.model_selection import train_test_split, RandomizedSearchCV, StratifiedKFold, KFold, GridSearchCV\n",
    "from sklearn.metrics import f1_score, roc_auc_score,accuracy_score,confusion_matrix, precision_recall_curve, auc, roc_curve, recall_score, classification_report"
   ]
  },
  {
   "cell_type": "code",
   "execution_count": 40,
   "id": "defined-booth",
   "metadata": {},
   "outputs": [
    {
     "name": "stdout",
     "output_type": "stream",
     "text": [
      "Fitting 5 folds for each of 10 candidates, totalling 50 fits\n"
     ]
    },
    {
     "data": {
      "text/plain": [
       "RandomizedSearchCV(cv=5,\n",
       "                   estimator=RandomForestClassifier(class_weight='balanced'),\n",
       "                   n_jobs=-1,\n",
       "                   param_distributions={'criterion': ['entropy', 'gini'],\n",
       "                                        'max_depth': [2, 3, 4, 5, 6, 7, 10],\n",
       "                                        'min_samples_leaf': [4, 6, 8],\n",
       "                                        'min_samples_split': [5, 7, 10],\n",
       "                                        'n_estimators': [300]},\n",
       "                   random_state=42, verbose=1)"
      ]
     },
     "execution_count": 40,
     "metadata": {},
     "output_type": "execute_result"
    }
   ],
   "source": [
    "## Random Forest classifier\n",
    "random_search = {'criterion': ['entropy', 'gini'],\n",
    "               'max_depth': [2,3,4,5,6,7,10],\n",
    "               'min_samples_leaf': [4, 6, 8],\n",
    "               'min_samples_split': [5, 7,10],\n",
    "               'n_estimators': [300]}\n",
    "\n",
    "clf = RandomForestClassifier(class_weight='balanced')\n",
    "model = RandomizedSearchCV(estimator = clf, param_distributions = random_search, n_iter = 10, \n",
    "                               cv = 5, verbose= 1, random_state= 42, n_jobs = -1)\n",
    "model.fit(x_train,y_train)"
   ]
  },
  {
   "cell_type": "code",
   "execution_count": 41,
   "id": "organizational-integer",
   "metadata": {},
   "outputs": [],
   "source": [
    "y_pred=model.predict(x_test)"
   ]
  },
  {
   "cell_type": "code",
   "execution_count": 42,
   "id": "systematic-africa",
   "metadata": {},
   "outputs": [
    {
     "name": "stdout",
     "output_type": "stream",
     "text": [
      "              precision    recall  f1-score   support\n",
      "\n",
      "           0       0.83      0.48      0.61      9607\n",
      "           1       0.30      0.69      0.42      3114\n",
      "\n",
      "    accuracy                           0.53     12721\n",
      "   macro avg       0.57      0.59      0.51     12721\n",
      "weighted avg       0.70      0.53      0.56     12721\n",
      "\n"
     ]
    }
   ],
   "source": [
    "print (classification_report(y_test, y_pred))"
   ]
  },
  {
   "cell_type": "code",
   "execution_count": 43,
   "id": "fatal-american",
   "metadata": {},
   "outputs": [],
   "source": [
    "y_score = model.predict_proba(x_test)[:,1]\n",
    "fpr, tpr, _ = roc_curve(y_test, y_score)"
   ]
  },
  {
   "cell_type": "code",
   "execution_count": 44,
   "id": "angry-shepherd",
   "metadata": {},
   "outputs": [
    {
     "data": {
      "image/png": "[encoded data removed]",
      "text/plain": [
       "<Figure size 432x288 with 1 Axes>"
      ]
     },
     "metadata": {},
     "output_type": "display_data"
    },
    {
     "name": "stdout",
     "output_type": "stream",
     "text": [
      "Area under curve (AUC):  0.6216508193989089\n"
     ]
    }
   ],
   "source": [
    "plt.plot(fpr,tpr)\n",
    "plt.plot((0,1), ls='dashed',color='black')\n",
    "plt.title('Random Forest ROC curve: CC Fraud')\n",
    "plt.xlabel('FPR (Precision)')\n",
    "plt.ylabel('TPR (Recall)')\n",
    "plt.show()\n",
    "print ('Area under curve (AUC): ', auc(fpr,tpr))"
   ]
  },
  {
   "cell_type": "code",
   "execution_count": 45,
   "id": "wrong-gauge",
   "metadata": {},
   "outputs": [
    {
     "data": {
      "text/plain": [
       "0.6216508193989089"
      ]
     },
     "execution_count": 45,
     "metadata": {},
     "output_type": "execute_result"
    }
   ],
   "source": [
    "roc_auc_score(y_test, y_score)"
   ]
  },
  {
   "cell_type": "code",
   "execution_count": 46,
   "id": "brutal-hollow",
   "metadata": {},
   "outputs": [
    {
     "name": "stdout",
     "output_type": "stream",
     "text": [
      "Learning rate set to 0.077906\n",
      "0:\tlearn: 0.6659832\ttest: 0.6667956\tbest: 0.6667956 (0)\ttotal: 237ms\tremaining: 3m 56s\n",
      "1:\tlearn: 0.6427366\ttest: 0.6436721\tbest: 0.6436721 (1)\ttotal: 402ms\tremaining: 3m 20s\n",
      "2:\tlearn: 0.6235999\ttest: 0.6247180\tbest: 0.6247180 (2)\ttotal: 614ms\tremaining: 3m 24s\n",
      "3:\tlearn: 0.6075476\ttest: 0.6094332\tbest: 0.6094332 (3)\ttotal: 855ms\tremaining: 3m 32s\n",
      "4:\tlearn: 0.5922042\ttest: 0.5946526\tbest: 0.5946526 (4)\ttotal: 997ms\tremaining: 3m 18s\n",
      "5:\tlearn: 0.5812969\ttest: 0.5839169\tbest: 0.5839169 (5)\ttotal: 1.11s\tremaining: 3m 4s\n",
      "6:\tlearn: 0.5716177\ttest: 0.5745491\tbest: 0.5745491 (6)\ttotal: 1.24s\tremaining: 2m 55s\n",
      "7:\tlearn: 0.5653699\ttest: 0.5686163\tbest: 0.5686163 (7)\ttotal: 1.28s\tremaining: 2m 39s\n",
      "8:\tlearn: 0.5491424\ttest: 0.5543281\tbest: 0.5543281 (8)\ttotal: 1.4s\tremaining: 2m 34s\n",
      "9:\tlearn: 0.5352633\ttest: 0.5417005\tbest: 0.5417005 (9)\ttotal: 1.55s\tremaining: 2m 33s\n",
      "10:\tlearn: 0.5239951\ttest: 0.5319555\tbest: 0.5319555 (10)\ttotal: 1.67s\tremaining: 2m 30s\n",
      "11:\tlearn: 0.5152365\ttest: 0.5241556\tbest: 0.5241556 (11)\ttotal: 1.8s\tremaining: 2m 28s\n",
      "12:\tlearn: 0.5083645\ttest: 0.5180019\tbest: 0.5180019 (12)\ttotal: 1.96s\tremaining: 2m 28s\n",
      "13:\tlearn: 0.5027242\ttest: 0.5131225\tbest: 0.5131225 (13)\ttotal: 2.1s\tremaining: 2m 27s\n",
      "14:\tlearn: 0.4968795\ttest: 0.5077760\tbest: 0.5077760 (14)\ttotal: 2.24s\tremaining: 2m 27s\n",
      "15:\tlearn: 0.4952188\ttest: 0.5061342\tbest: 0.5061342 (15)\ttotal: 2.46s\tremaining: 2m 31s\n",
      "16:\tlearn: 0.4904520\ttest: 0.5016294\tbest: 0.5016294 (16)\ttotal: 2.6s\tremaining: 2m 30s\n",
      "17:\tlearn: 0.4868108\ttest: 0.4982044\tbest: 0.4982044 (17)\ttotal: 2.73s\tremaining: 2m 28s\n",
      "18:\tlearn: 0.4825281\ttest: 0.4943909\tbest: 0.4943909 (18)\ttotal: 2.86s\tremaining: 2m 27s\n",
      "19:\tlearn: 0.4790643\ttest: 0.4914543\tbest: 0.4914543 (19)\ttotal: 2.99s\tremaining: 2m 26s\n",
      "20:\tlearn: 0.4763028\ttest: 0.4888862\tbest: 0.4888862 (20)\ttotal: 3.13s\tremaining: 2m 25s\n",
      "21:\tlearn: 0.4742067\ttest: 0.4869674\tbest: 0.4869674 (21)\ttotal: 3.31s\tremaining: 2m 27s\n",
      "22:\tlearn: 0.4715722\ttest: 0.4830937\tbest: 0.4830937 (22)\ttotal: 3.5s\tremaining: 2m 28s\n",
      "23:\tlearn: 0.4711116\ttest: 0.4826492\tbest: 0.4826492 (23)\ttotal: 3.67s\tremaining: 2m 29s\n",
      "24:\tlearn: 0.4683791\ttest: 0.4790181\tbest: 0.4790181 (24)\ttotal: 3.81s\tremaining: 2m 28s\n",
      "25:\tlearn: 0.4669270\ttest: 0.4768194\tbest: 0.4768194 (25)\ttotal: 3.97s\tremaining: 2m 28s\n",
      "26:\tlearn: 0.4648877\ttest: 0.4741571\tbest: 0.4741571 (26)\ttotal: 4.12s\tremaining: 2m 28s\n",
      "27:\tlearn: 0.4629370\ttest: 0.4716494\tbest: 0.4716494 (27)\ttotal: 4.31s\tremaining: 2m 29s\n",
      "28:\tlearn: 0.4614975\ttest: 0.4697149\tbest: 0.4697149 (28)\ttotal: 4.46s\tremaining: 2m 29s\n",
      "29:\tlearn: 0.4604857\ttest: 0.4682815\tbest: 0.4682815 (29)\ttotal: 4.64s\tremaining: 2m 30s\n",
      "30:\tlearn: 0.4590373\ttest: 0.4666516\tbest: 0.4666516 (30)\ttotal: 4.77s\tremaining: 2m 29s\n",
      "31:\tlearn: 0.4578859\ttest: 0.4654264\tbest: 0.4654264 (31)\ttotal: 4.9s\tremaining: 2m 28s\n",
      "32:\tlearn: 0.4571206\ttest: 0.4644127\tbest: 0.4644127 (32)\ttotal: 5s\tremaining: 2m 26s\n",
      "33:\tlearn: 0.4563821\ttest: 0.4633634\tbest: 0.4633634 (33)\ttotal: 5.18s\tremaining: 2m 27s\n",
      "34:\tlearn: 0.4554663\ttest: 0.4623210\tbest: 0.4623210 (34)\ttotal: 5.31s\tremaining: 2m 26s\n",
      "35:\tlearn: 0.4546806\ttest: 0.4617848\tbest: 0.4617848 (35)\ttotal: 5.45s\tremaining: 2m 26s\n",
      "36:\tlearn: 0.4540263\ttest: 0.4606671\tbest: 0.4606671 (36)\ttotal: 5.61s\tremaining: 2m 25s\n",
      "37:\tlearn: 0.4535197\ttest: 0.4600252\tbest: 0.4600252 (37)\ttotal: 5.77s\tremaining: 2m 26s\n",
      "38:\tlearn: 0.4530575\ttest: 0.4595193\tbest: 0.4595193 (38)\ttotal: 5.91s\tremaining: 2m 25s\n",
      "39:\tlearn: 0.4525442\ttest: 0.4587697\tbest: 0.4587697 (39)\ttotal: 6.08s\tremaining: 2m 25s\n",
      "40:\tlearn: 0.4519154\ttest: 0.4578885\tbest: 0.4578885 (40)\ttotal: 6.24s\tremaining: 2m 25s\n",
      "41:\tlearn: 0.4514536\ttest: 0.4572268\tbest: 0.4572268 (41)\ttotal: 6.38s\tremaining: 2m 25s\n",
      "42:\tlearn: 0.4510761\ttest: 0.4568588\tbest: 0.4568588 (42)\ttotal: 6.51s\tremaining: 2m 24s\n",
      "43:\tlearn: 0.4507429\ttest: 0.4564541\tbest: 0.4564541 (43)\ttotal: 6.66s\tremaining: 2m 24s\n",
      "44:\tlearn: 0.4503739\ttest: 0.4561420\tbest: 0.4561420 (44)\ttotal: 6.77s\tremaining: 2m 23s\n",
      "45:\tlearn: 0.4500192\ttest: 0.4555849\tbest: 0.4555849 (45)\ttotal: 6.89s\tremaining: 2m 22s\n",
      "46:\tlearn: 0.4497340\ttest: 0.4552484\tbest: 0.4552484 (46)\ttotal: 7.04s\tremaining: 2m 22s\n",
      "47:\tlearn: 0.4494731\ttest: 0.4549534\tbest: 0.4549534 (47)\ttotal: 7.17s\tremaining: 2m 22s\n",
      "48:\tlearn: 0.4490931\ttest: 0.4547180\tbest: 0.4547180 (48)\ttotal: 7.29s\tremaining: 2m 21s\n",
      "49:\tlearn: 0.4488023\ttest: 0.4545132\tbest: 0.4545132 (49)\ttotal: 7.43s\tremaining: 2m 21s\n",
      "50:\tlearn: 0.4486122\ttest: 0.4543418\tbest: 0.4543418 (50)\ttotal: 7.59s\tremaining: 2m 21s\n",
      "51:\tlearn: 0.4484454\ttest: 0.4542217\tbest: 0.4542217 (51)\ttotal: 7.76s\tremaining: 2m 21s\n",
      "52:\tlearn: 0.4481672\ttest: 0.4539832\tbest: 0.4539832 (52)\ttotal: 7.89s\tremaining: 2m 21s\n",
      "53:\tlearn: 0.4479372\ttest: 0.4539307\tbest: 0.4539307 (53)\ttotal: 8.05s\tremaining: 2m 20s\n",
      "54:\tlearn: 0.4477024\ttest: 0.4536998\tbest: 0.4536998 (54)\ttotal: 8.2s\tremaining: 2m 20s\n",
      "55:\tlearn: 0.4475938\ttest: 0.4536744\tbest: 0.4536744 (55)\ttotal: 8.33s\tremaining: 2m 20s\n",
      "56:\tlearn: 0.4473439\ttest: 0.4534596\tbest: 0.4534596 (56)\ttotal: 8.49s\tremaining: 2m 20s\n",
      "57:\tlearn: 0.4472300\ttest: 0.4534138\tbest: 0.4534138 (57)\ttotal: 8.75s\tremaining: 2m 22s\n",
      "58:\tlearn: 0.4470939\ttest: 0.4533768\tbest: 0.4533768 (58)\ttotal: 9.01s\tremaining: 2m 23s\n",
      "59:\tlearn: 0.4469304\ttest: 0.4533321\tbest: 0.4533321 (59)\ttotal: 9.18s\tremaining: 2m 23s\n",
      "60:\tlearn: 0.4466054\ttest: 0.4530968\tbest: 0.4530968 (60)\ttotal: 9.37s\tremaining: 2m 24s\n",
      "61:\tlearn: 0.4464726\ttest: 0.4530931\tbest: 0.4530931 (61)\ttotal: 9.6s\tremaining: 2m 25s\n",
      "62:\tlearn: 0.4463704\ttest: 0.4529282\tbest: 0.4529282 (62)\ttotal: 9.73s\tremaining: 2m 24s\n",
      "63:\tlearn: 0.4461494\ttest: 0.4527614\tbest: 0.4527614 (63)\ttotal: 9.89s\tremaining: 2m 24s\n",
      "64:\tlearn: 0.4461345\ttest: 0.4527530\tbest: 0.4527530 (64)\ttotal: 9.94s\tremaining: 2m 22s\n",
      "65:\tlearn: 0.4461091\ttest: 0.4527291\tbest: 0.4527291 (65)\ttotal: 10s\tremaining: 2m 21s\n",
      "66:\tlearn: 0.4460045\ttest: 0.4527329\tbest: 0.4527291 (65)\ttotal: 10.2s\tremaining: 2m 21s\n",
      "67:\tlearn: 0.4459050\ttest: 0.4527126\tbest: 0.4527126 (67)\ttotal: 10.3s\tremaining: 2m 21s\n",
      "68:\tlearn: 0.4456980\ttest: 0.4527006\tbest: 0.4527006 (68)\ttotal: 10.4s\tremaining: 2m 20s\n",
      "69:\tlearn: 0.4456564\ttest: 0.4526855\tbest: 0.4526855 (69)\ttotal: 10.6s\tremaining: 2m 20s\n",
      "70:\tlearn: 0.4455161\ttest: 0.4525681\tbest: 0.4525681 (70)\ttotal: 10.7s\tremaining: 2m 20s\n",
      "71:\tlearn: 0.4453280\ttest: 0.4525695\tbest: 0.4525681 (70)\ttotal: 11s\tremaining: 2m 21s\n",
      "72:\tlearn: 0.4452055\ttest: 0.4525802\tbest: 0.4525681 (70)\ttotal: 11.2s\tremaining: 2m 21s\n",
      "73:\tlearn: 0.4450416\ttest: 0.4524663\tbest: 0.4524663 (73)\ttotal: 11.3s\tremaining: 2m 21s\n",
      "74:\tlearn: 0.4450049\ttest: 0.4524618\tbest: 0.4524618 (74)\ttotal: 11.5s\tremaining: 2m 22s\n",
      "75:\tlearn: 0.4448167\ttest: 0.4522979\tbest: 0.4522979 (75)\ttotal: 11.7s\tremaining: 2m 21s\n",
      "76:\tlearn: 0.4447436\ttest: 0.4522986\tbest: 0.4522979 (75)\ttotal: 11.8s\tremaining: 2m 21s\n",
      "77:\tlearn: 0.4446952\ttest: 0.4522743\tbest: 0.4522743 (77)\ttotal: 12s\tremaining: 2m 21s\n",
      "78:\tlearn: 0.4444468\ttest: 0.4520596\tbest: 0.4520596 (78)\ttotal: 12.2s\tremaining: 2m 22s\n",
      "79:\tlearn: 0.4443954\ttest: 0.4520524\tbest: 0.4520524 (79)\ttotal: 12.3s\tremaining: 2m 21s\n",
      "80:\tlearn: 0.4443604\ttest: 0.4520219\tbest: 0.4520219 (80)\ttotal: 12.5s\tremaining: 2m 21s\n",
      "81:\tlearn: 0.4442779\ttest: 0.4520231\tbest: 0.4520219 (80)\ttotal: 12.8s\tremaining: 2m 23s\n",
      "82:\tlearn: 0.4440463\ttest: 0.4516996\tbest: 0.4516996 (82)\ttotal: 12.9s\tremaining: 2m 22s\n",
      "83:\tlearn: 0.4440123\ttest: 0.4516713\tbest: 0.4516713 (83)\ttotal: 13s\tremaining: 2m 22s\n",
      "84:\tlearn: 0.4437475\ttest: 0.4515394\tbest: 0.4515394 (84)\ttotal: 13.2s\tremaining: 2m 22s\n",
      "85:\tlearn: 0.4436725\ttest: 0.4515548\tbest: 0.4515394 (84)\ttotal: 13.4s\tremaining: 2m 22s\n",
      "86:\tlearn: 0.4436254\ttest: 0.4515478\tbest: 0.4515394 (84)\ttotal: 13.7s\tremaining: 2m 23s\n",
      "87:\tlearn: 0.4435213\ttest: 0.4514770\tbest: 0.4514770 (87)\ttotal: 13.9s\tremaining: 2m 23s\n",
      "88:\tlearn: 0.4433998\ttest: 0.4514803\tbest: 0.4514770 (87)\ttotal: 14s\tremaining: 2m 23s\n",
      "89:\tlearn: 0.4433082\ttest: 0.4514467\tbest: 0.4514467 (89)\ttotal: 14.2s\tremaining: 2m 23s\n",
      "90:\tlearn: 0.4431118\ttest: 0.4513831\tbest: 0.4513831 (90)\ttotal: 14.4s\tremaining: 2m 23s\n",
      "91:\tlearn: 0.4429477\ttest: 0.4512267\tbest: 0.4512267 (91)\ttotal: 14.5s\tremaining: 2m 23s\n",
      "92:\tlearn: 0.4427445\ttest: 0.4511601\tbest: 0.4511601 (92)\ttotal: 14.8s\tremaining: 2m 23s\n",
      "93:\tlearn: 0.4426409\ttest: 0.4511254\tbest: 0.4511254 (93)\ttotal: 14.9s\tremaining: 2m 24s\n"
     ]
    },
    {
     "name": "stdout",
     "output_type": "stream",
     "text": [
      "94:\tlearn: 0.4425847\ttest: 0.4510998\tbest: 0.4510998 (94)\ttotal: 15.1s\tremaining: 2m 23s\n",
      "95:\tlearn: 0.4424934\ttest: 0.4511034\tbest: 0.4510998 (94)\ttotal: 15.3s\tremaining: 2m 23s\n",
      "96:\tlearn: 0.4423308\ttest: 0.4510806\tbest: 0.4510806 (96)\ttotal: 15.6s\tremaining: 2m 25s\n",
      "97:\tlearn: 0.4422373\ttest: 0.4510805\tbest: 0.4510805 (97)\ttotal: 15.9s\tremaining: 2m 26s\n",
      "98:\tlearn: 0.4421645\ttest: 0.4510462\tbest: 0.4510462 (98)\ttotal: 16.1s\tremaining: 2m 26s\n",
      "99:\tlearn: 0.4420363\ttest: 0.4509016\tbest: 0.4509016 (99)\ttotal: 16.4s\tremaining: 2m 27s\n",
      "100:\tlearn: 0.4419631\ttest: 0.4508333\tbest: 0.4508333 (100)\ttotal: 16.6s\tremaining: 2m 27s\n",
      "101:\tlearn: 0.4419181\ttest: 0.4508021\tbest: 0.4508021 (101)\ttotal: 16.8s\tremaining: 2m 27s\n",
      "102:\tlearn: 0.4417498\ttest: 0.4506570\tbest: 0.4506570 (102)\ttotal: 17s\tremaining: 2m 28s\n",
      "103:\tlearn: 0.4416897\ttest: 0.4506821\tbest: 0.4506570 (102)\ttotal: 17.2s\tremaining: 2m 28s\n",
      "104:\tlearn: 0.4414868\ttest: 0.4505013\tbest: 0.4505013 (104)\ttotal: 17.4s\tremaining: 2m 27s\n",
      "105:\tlearn: 0.4413813\ttest: 0.4504415\tbest: 0.4504415 (105)\ttotal: 17.5s\tremaining: 2m 27s\n",
      "106:\tlearn: 0.4413350\ttest: 0.4504041\tbest: 0.4504041 (106)\ttotal: 17.7s\tremaining: 2m 27s\n",
      "107:\tlearn: 0.4412655\ttest: 0.4503961\tbest: 0.4503961 (107)\ttotal: 17.8s\tremaining: 2m 27s\n",
      "108:\tlearn: 0.4411681\ttest: 0.4503766\tbest: 0.4503766 (108)\ttotal: 18s\tremaining: 2m 27s\n",
      "109:\tlearn: 0.4411165\ttest: 0.4503319\tbest: 0.4503319 (109)\ttotal: 18.1s\tremaining: 2m 26s\n",
      "110:\tlearn: 0.4410166\ttest: 0.4502703\tbest: 0.4502703 (110)\ttotal: 18.3s\tremaining: 2m 26s\n",
      "111:\tlearn: 0.4409132\ttest: 0.4502482\tbest: 0.4502482 (111)\ttotal: 18.5s\tremaining: 2m 26s\n",
      "112:\tlearn: 0.4408231\ttest: 0.4501925\tbest: 0.4501925 (112)\ttotal: 18.6s\tremaining: 2m 26s\n",
      "113:\tlearn: 0.4407766\ttest: 0.4501915\tbest: 0.4501915 (113)\ttotal: 18.8s\tremaining: 2m 25s\n",
      "114:\tlearn: 0.4406645\ttest: 0.4502107\tbest: 0.4501915 (113)\ttotal: 18.9s\tremaining: 2m 25s\n",
      "115:\tlearn: 0.4406245\ttest: 0.4502126\tbest: 0.4501915 (113)\ttotal: 19.1s\tremaining: 2m 25s\n",
      "116:\tlearn: 0.4405526\ttest: 0.4501942\tbest: 0.4501915 (113)\ttotal: 19.3s\tremaining: 2m 25s\n",
      "117:\tlearn: 0.4405133\ttest: 0.4501769\tbest: 0.4501769 (117)\ttotal: 19.5s\tremaining: 2m 25s\n",
      "118:\tlearn: 0.4404462\ttest: 0.4501821\tbest: 0.4501769 (117)\ttotal: 19.6s\tremaining: 2m 25s\n",
      "119:\tlearn: 0.4403705\ttest: 0.4501670\tbest: 0.4501670 (119)\ttotal: 19.8s\tremaining: 2m 25s\n",
      "120:\tlearn: 0.4402625\ttest: 0.4501134\tbest: 0.4501134 (120)\ttotal: 19.9s\tremaining: 2m 24s\n",
      "121:\tlearn: 0.4401799\ttest: 0.4501026\tbest: 0.4501026 (121)\ttotal: 20s\tremaining: 2m 24s\n",
      "122:\tlearn: 0.4400011\ttest: 0.4498987\tbest: 0.4498987 (122)\ttotal: 20.2s\tremaining: 2m 23s\n",
      "123:\tlearn: 0.4399933\ttest: 0.4498820\tbest: 0.4498820 (123)\ttotal: 20.3s\tremaining: 2m 23s\n",
      "124:\tlearn: 0.4398372\ttest: 0.4498432\tbest: 0.4498432 (124)\ttotal: 20.4s\tremaining: 2m 23s\n",
      "125:\tlearn: 0.4397659\ttest: 0.4498544\tbest: 0.4498432 (124)\ttotal: 20.6s\tremaining: 2m 23s\n",
      "126:\tlearn: 0.4396776\ttest: 0.4498223\tbest: 0.4498223 (126)\ttotal: 20.8s\tremaining: 2m 22s\n",
      "127:\tlearn: 0.4396105\ttest: 0.4497780\tbest: 0.4497780 (127)\ttotal: 20.9s\tremaining: 2m 22s\n",
      "128:\tlearn: 0.4395299\ttest: 0.4497311\tbest: 0.4497311 (128)\ttotal: 21.1s\tremaining: 2m 22s\n",
      "129:\tlearn: 0.4394301\ttest: 0.4497489\tbest: 0.4497311 (128)\ttotal: 21.2s\tremaining: 2m 21s\n",
      "130:\tlearn: 0.4393477\ttest: 0.4497417\tbest: 0.4497311 (128)\ttotal: 21.4s\tremaining: 2m 21s\n",
      "131:\tlearn: 0.4392132\ttest: 0.4496786\tbest: 0.4496786 (131)\ttotal: 21.5s\tremaining: 2m 21s\n",
      "132:\tlearn: 0.4390954\ttest: 0.4496203\tbest: 0.4496203 (132)\ttotal: 21.7s\tremaining: 2m 21s\n",
      "133:\tlearn: 0.4390185\ttest: 0.4496242\tbest: 0.4496203 (132)\ttotal: 21.9s\tremaining: 2m 21s\n",
      "134:\tlearn: 0.4388038\ttest: 0.4495079\tbest: 0.4495079 (134)\ttotal: 22.1s\tremaining: 2m 21s\n",
      "135:\tlearn: 0.4387284\ttest: 0.4494923\tbest: 0.4494923 (135)\ttotal: 22.3s\tremaining: 2m 21s\n",
      "136:\tlearn: 0.4386669\ttest: 0.4494921\tbest: 0.4494921 (136)\ttotal: 22.5s\tremaining: 2m 21s\n",
      "137:\tlearn: 0.4386428\ttest: 0.4494698\tbest: 0.4494698 (137)\ttotal: 22.6s\tremaining: 2m 21s\n",
      "138:\tlearn: 0.4385616\ttest: 0.4494641\tbest: 0.4494641 (138)\ttotal: 22.8s\tremaining: 2m 21s\n",
      "139:\tlearn: 0.4385201\ttest: 0.4494926\tbest: 0.4494641 (138)\ttotal: 23s\tremaining: 2m 21s\n",
      "140:\tlearn: 0.4384587\ttest: 0.4495036\tbest: 0.4494641 (138)\ttotal: 23.2s\tremaining: 2m 21s\n",
      "141:\tlearn: 0.4383997\ttest: 0.4494845\tbest: 0.4494641 (138)\ttotal: 23.4s\tremaining: 2m 21s\n",
      "142:\tlearn: 0.4383780\ttest: 0.4494800\tbest: 0.4494641 (138)\ttotal: 23.6s\tremaining: 2m 21s\n",
      "143:\tlearn: 0.4383344\ttest: 0.4494742\tbest: 0.4494641 (138)\ttotal: 23.8s\tremaining: 2m 21s\n",
      "Stopped by overfitting detector  (5 iterations wait)\n",
      "\n",
      "bestTest = 0.4494640973\n",
      "bestIteration = 138\n",
      "\n",
      "Shrink model to first 139 iterations.\n",
      "Validation ROC AUC Score: 0.7937413537642718\n"
     ]
    }
   ],
   "source": [
    "## Cat boost classifier\n",
    "cat_model = CatBoostClassifier()\n",
    "cat_model = cat_model.fit(x_train, y_train, cat_features = cols, eval_set = (x_test, y_test), early_stopping_rounds = 5, verbose = 1)\n",
    "\n",
    "predictions = [pred[1] for pred in cat_model.predict_proba(x_test)]\n",
    "print('Validation ROC AUC Score:', roc_auc_score(y_test, predictions, average = 'weighted'))"
   ]
  },
  {
   "cell_type": "code",
   "execution_count": 47,
   "id": "waiting-thirty",
   "metadata": {},
   "outputs": [],
   "source": [
    "# Prediction on test dataset\n",
    "Preds1=cat_model.predict(test)"
   ]
  },
  {
   "cell_type": "code",
   "execution_count": 48,
   "id": "flying-intermediate",
   "metadata": {},
   "outputs": [],
   "source": [
    "submission = pd.DataFrame(data = {'ID': ID, 'Response': Preds1})\n",
    "submission.to_csv('catboost2.csv', index = False)"
   ]
  },
  {
   "cell_type": "markdown",
   "id": "offshore-receiver",
   "metadata": {},
   "source": [
    "# conclusion:\n",
    "Finally i got 0.79 AUC-ROC score on catboost classifier model.\n",
    "1)individuals insurace type is have more  response when compared to joint health insurance, 2)\n",
    "the person who dont have spouse which is more likely to have health insurance compared to having spouse. 3)\n",
    "overall there is less customers respond for the health insurance policy."
   ]
  },
  {
   "cell_type": "code",
   "execution_count": 50,
   "id": "certain-tribute",
   "metadata": {},
   "outputs": [],
   "source": []
  },
  {
   "cell_type": "code",
   "execution_count": 51,
   "id": "muslim-health",
   "metadata": {},
   "outputs": [],
   "source": []
  },
  {
   "cell_type": "code",
   "execution_count": null,
   "id": "strong-diagnosis",
   "metadata": {},
   "outputs": [],
   "source": []
  },
  {
   "cell_type": "code",
   "execution_count": null,
   "id": "little-discovery",
   "metadata": {},
   "outputs": [],
   "source": []
  }
 ],
 "metadata": {
  "kernelspec": {
   "display_name": "Python 3",
   "language": "python",
   "name": "python3"
  },
  "language_info": {
   "codemirror_mode": {
    "name": "ipython",
    "version": 3
   },
   "file_extension": ".py",
   "mimetype": "text/x-python",
   "name": "python",
   "nbconvert_exporter": "python",
   "pygments_lexer": "ipython3",
   "version": "3.8.5"
  }
 },
 "nbformat": 4,
 "nbformat_minor": 5
}
